{
 "cells": [
  {
   "cell_type": "code",
   "execution_count": 12,
   "metadata": {},
   "outputs": [],
   "source": [
    "import pandas as pd\n",
    "\n",
    "event = pd.read_csv(\"dataset-event-final.csv\") \n",
    "rating = pd.read_csv(\"copyrating.csv\")\n",
    "user = pd.read_csv(\"user.csv\")\n",
    "\n",
    "merged = rating.merge(user, how='outer', on='user-id') \n",
    "merged = merged.merge(event, how='outer', on='event-id')\n",
    "\n",
    "\n",
    "merged.to_csv('result.csv', index=False)"
   ]
  }
 ],
 "metadata": {
  "kernelspec": {
   "display_name": "Python 3",
   "language": "python",
   "name": "python3"
  },
  "language_info": {
   "codemirror_mode": {
    "name": "ipython",
    "version": 3
   },
   "file_extension": ".py",
   "mimetype": "text/x-python",
   "name": "python",
   "nbconvert_exporter": "python",
   "pygments_lexer": "ipython3",
   "version": "3.7.1"
  }
 },
 "nbformat": 4,
 "nbformat_minor": 2
}
